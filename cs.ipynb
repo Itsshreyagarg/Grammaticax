{
 "cells": [
  {
   "cell_type": "code",
   "execution_count": 1,
   "id": "4cfe685b-e059-43e9-bbc9-e292b0d4dfcf",
   "metadata": {},
   "outputs": [
    {
     "name": "stdout",
     "output_type": "stream",
     "text": [
      "Created folder: data\n",
      "Created folder: notebooks\n",
      "Created folder: scripts\n",
      "Created folder: models\n",
      "Created folder: outputs\n",
      "Created folder: api\n",
      "Created folder: config\n",
      "Created folder: tests\n"
     ]
    }
   ],
   "source": [
    "import os\n",
    "\n",
    "FOLDERS = [\n",
    "    \"data\", \"notebooks\", \"scripts\", \"models\",\n",
    "    \"outputs\", \"api\", \"config\", \"tests\"\n",
    "]\n",
    "\n",
    "for folder in FOLDERS:\n",
    "    os.makedirs(folder, exist_ok=True)\n",
    "    print(f\"Created folder: {folder}\")\n"
   ]
  },
  {
   "cell_type": "code",
   "execution_count": null,
   "id": "737d0891-357f-4a47-b1a5-7cae0f78e64d",
   "metadata": {},
   "outputs": [],
   "source": []
  }
 ],
 "metadata": {
  "kernelspec": {
   "display_name": "Python 3 (ipykernel)",
   "language": "python",
   "name": "python3"
  },
  "language_info": {
   "codemirror_mode": {
    "name": "ipython",
    "version": 3
   },
   "file_extension": ".py",
   "mimetype": "text/x-python",
   "name": "python",
   "nbconvert_exporter": "python",
   "pygments_lexer": "ipython3",
   "version": "3.11.8"
  }
 },
 "nbformat": 4,
 "nbformat_minor": 5
}
